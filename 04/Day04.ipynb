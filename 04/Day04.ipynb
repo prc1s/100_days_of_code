{
 "cells": [
  {
   "cell_type": "code",
   "execution_count": 12,
   "id": "9eacb662",
   "metadata": {},
   "outputs": [
    {
     "name": "stdout",
     "output_type": "stream",
     "text": [
      "2\n",
      "You Win!\n"
     ]
    }
   ],
   "source": [
    "import random\n",
    "user_int = int(input(\"Please Write 0 for papper, 1 for rock, 2 for scissors. \"))\n",
    "comp_int = random.randint(0, 2)\n",
    "print(comp_int)\n",
    "if user_int > 2 or user_int < 0:\n",
    "    print(\"please input a valid number.\")\n",
    "else:\n",
    "    if user_int == 0 and comp_int == 2:\n",
    "        print(\"You Lost. \")\n",
    "    elif user_int == comp_int:\n",
    "        print(\"Draw. \")\n",
    "    elif user_int < comp_int:\n",
    "        print(\"You Win!\")\n",
    "    else:\n",
    "        print(\"You Lost.\")"
   ]
  }
 ],
 "metadata": {
  "kernelspec": {
   "display_name": ".venv",
   "language": "python",
   "name": "python3"
  },
  "language_info": {
   "codemirror_mode": {
    "name": "ipython",
    "version": 3
   },
   "file_extension": ".py",
   "mimetype": "text/x-python",
   "name": "python",
   "nbconvert_exporter": "python",
   "pygments_lexer": "ipython3",
   "version": "3.13.1"
  }
 },
 "nbformat": 4,
 "nbformat_minor": 5
}
