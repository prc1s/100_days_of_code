{
 "cells": [
  {
   "cell_type": "code",
   "execution_count": null,
   "id": "1b891e87",
   "metadata": {},
   "outputs": [],
   "source": [
    "DAY02 PROJECT"
   ]
  },
  {
   "cell_type": "code",
   "execution_count": null,
   "id": "7e0cb687",
   "metadata": {},
   "outputs": [
    {
     "name": "stdout",
     "output_type": "stream",
     "text": [
      "Welcome to the tip calculator.\n",
      "\n",
      "Each person should pay 40.0\n"
     ]
    }
   ],
   "source": [
    "print(\"Welcome to the tip calculator.\\n\")\n",
    "total_bill = float(input(\"What was the total bill? \"))\n",
    "tip_precentage = float(input(\"How much tip would you like to give? \\n (e.g. 15 30 60.) \"))\n",
    "split_count = int(input(\"How many people to split the bill? \"))\n",
    "tip = (tip_precentage*(10**(-2))) * total_bill\n",
    "price_per_person = (total_bill + tip ) / split_count\n",
    "print(f\"Each person should pay {price_per_person}.\")"
   ]
  }
 ],
 "metadata": {
  "kernelspec": {
   "display_name": ".venv",
   "language": "python",
   "name": "python3"
  },
  "language_info": {
   "codemirror_mode": {
    "name": "ipython",
    "version": 3
   },
   "file_extension": ".py",
   "mimetype": "text/x-python",
   "name": "python",
   "nbconvert_exporter": "python",
   "pygments_lexer": "ipython3",
   "version": "3.13.1"
  }
 },
 "nbformat": 4,
 "nbformat_minor": 5
}
