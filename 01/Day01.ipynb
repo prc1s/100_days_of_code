{
 "cells": [
  {
   "cell_type": "code",
   "execution_count": 1,
   "id": "2aa132a6",
   "metadata": {},
   "outputs": [
    {
     "name": "stdout",
     "output_type": "stream",
     "text": [
      "Hello World!!\n"
     ]
    }
   ],
   "source": [
    "print(\"Hello World!!\")"
   ]
  },
  {
   "cell_type": "code",
   "execution_count": null,
   "id": "40915fe7",
   "metadata": {},
   "outputs": [
    {
     "name": "stdout",
     "output_type": "stream",
     "text": [
      "asdlajnsfa is the user name\n"
     ]
    }
   ],
   "source": [
    "user_name = input(\"what is ur name? \")\n",
    "print(user_name + \" is the user name\")"
   ]
  },
  {
   "cell_type": "code",
   "execution_count": 14,
   "id": "ae3f74f2",
   "metadata": {},
   "outputs": [
    {
     "name": "stdout",
     "output_type": "stream",
     "text": [
      "his fav color is: blue, there are 4 number of charecters in this color.\n"
     ]
    }
   ],
   "source": [
    "user_color = input(\"what is ur fav color?: \")\n",
    "num = len(user_color)\n",
    "print(\"his fav color is: \" + user_color + f\", there are {num} number of charecters in this color.\")"
   ]
  },
  {
   "cell_type": "markdown",
   "id": "dd8d36f3",
   "metadata": {},
   "source": [
    "DAY01 PROJECT"
   ]
  },
  {
   "cell_type": "code",
   "execution_count": null,
   "id": "344a0a96",
   "metadata": {},
   "outputs": [
    {
     "name": "stdout",
     "output_type": "stream",
     "text": [
      "Welcome to the Band Name Generator.\n",
      "\n",
      "Your Band's Name Could be n s\n"
     ]
    }
   ],
   "source": [
    "print(\"Welcome to the Band Name Generator.\\n\")\n",
    "user_city = input(\"What city did you grow up in? \\n\")\n",
    "user_pet = input(\"What is your Pet's Name? \\n\")\n",
    "print(f\"Your Band's Name Could be {user_city} {user_pet}\")"
   ]
  }
 ],
 "metadata": {
  "kernelspec": {
   "display_name": ".venv",
   "language": "python",
   "name": "python3"
  },
  "language_info": {
   "codemirror_mode": {
    "name": "ipython",
    "version": 3
   },
   "file_extension": ".py",
   "mimetype": "text/x-python",
   "name": "python",
   "nbconvert_exporter": "python",
   "pygments_lexer": "ipython3",
   "version": "3.13.1"
  }
 },
 "nbformat": 4,
 "nbformat_minor": 5
}
