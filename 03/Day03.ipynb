{
 "cells": [
  {
   "cell_type": "code",
   "execution_count": 4,
   "id": "0aefc1ca",
   "metadata": {},
   "outputs": [
    {
     "name": "stdout",
     "output_type": "stream",
     "text": [
      "Welcome to Treasure Island.\n",
      "Your mission is to find the treasure.\n",
      "You Win!!\n"
     ]
    }
   ],
   "source": [
    "\n",
    "print(\"Welcome to Treasure Island.\\nYour mission is to find the treasure.\")\n",
    "input_1 = input(\"Left or Right? \").lower()\n",
    "if(input_1 == \"right\"):\n",
    "    print(\"Game Over.\")\n",
    "elif(input_1 == \"left\"):\n",
    "    input_2 = input(\"Swim or Wait? \").lower()\n",
    "    if (input_2 == \"swim\"):\n",
    "        print(\"Game Over.\")\n",
    "    elif (input_2 == \"wait\"):\n",
    "        input_3 = input(\"which door? Red, Blue, or Yellow? \").lower()\n",
    "        if (input_3 == \"yellow\"):\n",
    "            print(\"You Win!!\")\n",
    "        else:\n",
    "            (\"Game Over.\")"
   ]
  }
 ],
 "metadata": {
  "kernelspec": {
   "display_name": ".venv",
   "language": "python",
   "name": "python3"
  },
  "language_info": {
   "codemirror_mode": {
    "name": "ipython",
    "version": 3
   },
   "file_extension": ".py",
   "mimetype": "text/x-python",
   "name": "python",
   "nbconvert_exporter": "python",
   "pygments_lexer": "ipython3",
   "version": "3.13.1"
  }
 },
 "nbformat": 4,
 "nbformat_minor": 5
}
